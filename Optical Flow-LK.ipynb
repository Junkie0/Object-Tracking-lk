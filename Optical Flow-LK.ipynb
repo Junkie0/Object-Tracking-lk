{
 "cells": [
  {
   "cell_type": "code",
   "execution_count": 1,
   "id": "cfac01f0-62ba-490b-a34d-cbdf67f0fa9b",
   "metadata": {},
   "outputs": [],
   "source": [
    "import numpy as np\n",
    "import cv2"
   ]
  },
  {
   "cell_type": "code",
   "execution_count": 2,
   "id": "abd06fbc-46d8-4c76-8251-0ad6856e50ed",
   "metadata": {},
   "outputs": [],
   "source": [
    "# Parameters for ShiTomasi corner detection (good features to track paper)\n",
    "corner_track_params = dict(maxCorners = 40, qualityLevel = 0.3, minDistance = 7, blockSize = 7)"
   ]
  },
  {
   "cell_type": "code",
   "execution_count": 3,
   "id": "57d93f6e-e02c-464d-ad93-506ecca5478d",
   "metadata": {},
   "outputs": [],
   "source": [
    "# Parameters for lucas kanade optical flow\n",
    "lk_params = dict(winSize = (200, 200), maxLevel = 2, criteria = (cv2.TERM_CRITERIA_EPS | cv2.TERM_CRITERIA_COUNT, 10, 0.03))"
   ]
  },
  {
   "cell_type": "code",
   "execution_count": null,
   "id": "1687291d-571a-4547-81a4-9c32e02613f5",
   "metadata": {},
   "outputs": [],
   "source": [
    "# Capture the video\n",
    "\n",
    "camera = \"your_wireless_camera_IP\"\n",
    "\n",
    "cap = cv2.VideoCapture(camera)\n",
    "\n",
    "# Grabt the very first frame of the stream to track\n",
    "ret, prev_frame = cap.read()\n",
    "\n",
    "# convert it into gray scale\n",
    "prev_gray = cv2.cvtColor(prev_frame, cv2.COLOR_BGR2GRAY)\n",
    "\n",
    "# Grab the corners to track\n",
    "prev_pts = cv2.goodFeaturesToTrack(prev_gray, mask = None, **corner_track_params)\n",
    "# using that dict here by **\n",
    "\n",
    "# Create a matching mask of the previouc frame for drawing on later\n",
    "mask = np.zeros_like(prev_frame)\n",
    "\n",
    "# run\n",
    "while True:\n",
    "    # Grab current frame\n",
    "    ret, frame = cap.read()\n",
    "\n",
    "    # Grab gray scale\n",
    "    frame_gray = cv2.cvtColor(frame, cv2.COLOR_BGR2GRAY)\n",
    "\n",
    "    # Calculate the optical flow on the gray scale frame\n",
    "    next_pts, status, err = cv2.calcOpticalFlowPyrLK(prev_gray, frame_gray, prev_pts, None, **lk_params)\n",
    "\n",
    "    # Using the returned status array (the status output)\n",
    "    # status output status vector (of unsigned chars); each element of the vector is set to 1 if\n",
    "    # the flow for the corresponding features has been found, otherwise, it is set to 0.\n",
    "    good_new = next_pts[status==1]\n",
    "    good_prev = prev_pts[status==1]\n",
    "\n",
    "    # Use ravel to get points to draw lines and circles\n",
    "    for i,(new, prev) in enumerate(zip(good_new, good_prev)):\n",
    "            # Reshape the array into 1D but keeping the order same\n",
    "            x_new, y_new = new.ravel()\n",
    "            x_prev, y_prev = prev.ravel()\n",
    "            x_new, y_new, x_prev, y_prev = int(x_new), int(y_new), int(x_prev), int(y_prev)\n",
    "\n",
    "            # Lines will be drawn using the mask created from the first frame\n",
    "            mask = cv2.line(mask, (x_new,y_new),(x_prev,y_prev), (0,255,0), 3)\n",
    "\n",
    "            # Draw red circles at corner points\n",
    "            frame = cv2.circle(frame,(x_new,y_new),5,(0,0,255),-1)\n",
    "\n",
    "    # Display the image along with the mask we drew the line on\n",
    "    img = cv2.add(frame, mask)\n",
    "    frame = cv2.resize(img, (800, 450))\n",
    "    cv2.imshow(\"Frame\", frame)\n",
    "\n",
    "    k = cv2.waitKey(30) & 0xff\n",
    "    if k == 27:\n",
    "        break\n",
    "\n",
    "    # Now update the previous frame and  previous points\n",
    "    prev_gray = frame_gray.copy()\n",
    "    prev_pts = good_new.reshape(-1, 1, 2) # that's how lk works\n",
    "\n",
    "cv2.destroyAllWindows()\n",
    "cap.release()"
   ]
  }
 ],
 "metadata": {
  "kernelspec": {
   "display_name": "Python 3 (ipykernel)",
   "language": "python",
   "name": "python3"
  },
  "language_info": {
   "codemirror_mode": {
    "name": "ipython",
    "version": 3
   },
   "file_extension": ".py",
   "mimetype": "text/x-python",
   "name": "python",
   "nbconvert_exporter": "python",
   "pygments_lexer": "ipython3",
   "version": "3.11.7"
  }
 },
 "nbformat": 4,
 "nbformat_minor": 5
}
